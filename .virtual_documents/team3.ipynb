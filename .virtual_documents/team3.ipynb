


import pandas as pd
import matplotlib.pyplot as plt
import matplotlib.ticker as mtick


import matplotlib.pyplot as plt
import matplotlib.font_manager as fm
import platform

# Mac용 한글 폰트 설정
if platform.system() == 'Darwin':
    plt.rcParams['font.family'] = 'AppleGothic'  # macOS 기본 한글 폰트
elif platform.system() == 'Windows':
    plt.rcParams['font.family'] = 'Malgun Gothic'  # Windows 용
else:
    plt.rcParams['font.family'] = 'NanumGothic'  # 리눅스나 기타

# 음수 깨짐 방지 (예: 막대그래프 아래로 향할 때 -값 표시)
plt.rcParams['axes.unicode_minus'] = False



data = pd.read_csv("우체국금융개발원_우체국 금융 사기계좌 정보_20241231.csv",encoding = 'cp949')


data.head(5)


data.info()


# 숫자 형식 설정 (쉼표 포함된 일반 숫자 표기)
pd.options.display.float_format = '{:,.0f}'.format

des = data[['연령대','피해자계좌_피해(송금)액']].describe()
# 다시 describe()
print(des)





# 최초접수년
import matplotlib.pyplot as plt
import seaborn as sns

plt.figure(figsize=(8, 5))
sns.countplot(data=data, x='최초 접수년', order=sorted(data['최초 접수년'].unique()))
plt.title('최초 접수 연도별 피해 건수')
plt.xlabel('최초 접수 연도')
plt.ylabel('건수')
plt.xticks(rotation=45)
plt.tight_layout()
plt.show()



import pandas as pd
import seaborn as sns
import matplotlib.pyplot as plt
import math

# 금액 단위 변환: 원 → 만원
data['피해금액_만원'] = data['피해자계좌_피해(송금)액'] / 10000

# 분석 대상 컬럼 리스트 (변경된 컬럼명 반영)
columns = ['연령대', '피해자 성별', '최초 접수년', '최초 접수월',
           '피해금액_만원', '사기유형', '사칭기관', '피해구제 신청사유', '접근매체']

# subplot 행/열 수 계산
n_cols = 2
n_rows = math.ceil(len(columns) / n_cols)

# 도화지 크기 설정
plt.figure(figsize=(12, 5 * n_rows))

# 컬럼별 subplot 반복
for idx, col in enumerate(columns):
    plt.subplot(n_rows, n_cols, idx + 1)

    # 명시적 범주형 처리
    if col in ['최초 접수년', '최초 접수월']:
        sns.countplot(data=data, x=col, order=sorted(data[col].dropna().unique()))
        plt.xticks(rotation=45, ha='right')

    # 피해 금액은 박스플롯으로 (만원 단위 & 지수표기 제거)
    elif col == '피해금액_만원':
        sns.boxplot(x=data[col], color='skyblue')
        plt.xlabel('피해 금액 (만원)')
        plt.ticklabel_format(style='plain', axis='x')

    # 범주형은 countplot
    elif pd.api.types.is_object_dtype(data[col]) or pd.api.types.is_categorical_dtype(data[col]):
        sns.countplot(data=data, x=col, order=data[col].value_counts().index)
        plt.xticks(rotation=45, ha='right')

    # 그 외 수치형은 히스토그램
    else:
        sns.histplot(data[col].dropna(), bins=30)

    plt.title(f'{col} 분포')
    plt.ylabel('건수')

# 전체 레이아웃 정리
plt.tight_layout()
plt.show()






gender_avg = data.groupby('피해자 성별')['피해자계좌_피해(송금)액'].mean().reset_index()


plt.figure(figsize=(6, 4))
bars = plt.bar(gender_avg['피해자 성별'], gender_avg['피해자계좌_피해(송금)액'], color=['green','blue','pink'])
plt.xlabel('성별')
plt.ylabel('평균 피해 금액 (원)')
plt.title('성별에 따른 평균 피해 금액')

plt.gca().yaxis.set_major_formatter(mtick.FuncFormatter(lambda x, _: f'{int(x/1e7)}천만'))
for bar in bars:
    height = bar.get_height()  # 막대 높이(값)
    plt.text(bar.get_x() + bar.get_width()/2, height, f'{height:,.0f} 원', 
             ha='center', va='bottom', fontsize=10, fontweight='bold')

plt.show()


gender_count = data['피해자 성별'].value_counts()
gender_count


corp_data = data[data['피해자 성별'] == '기업']
print(corp_data.head())


import pandas as pd
import matplotlib.pyplot as plt

# ▶ 성별별 피해 건수
gender_count = data['피해자 성별'].value_counts().reset_index()
gender_count.columns = ['피해자 성별', '피해 건수']

# '피해자계좌_피해(송금)액'의 중간값으로 변경
gender_median_amount = data.groupby('피해자 성별')['피해자계좌_피해(송금)액'].median().reset_index()
gender_median_amount.columns = ['피해자 성별', '중간 피해 금액']

# 두 데이터 병합
merged_median = pd.merge(gender_count, gender_median_amount, on='피해자 성별')

# 그래프 그리기
fig, ax1 = plt.subplots(figsize=(8, 5))

# 막대그래프: 피해 건수
bars = ax1.bar(merged_median['피해자 성별'], merged_median['피해 건수'], color='skyblue', label='피해 건수')
ax1.set_xlabel('성별')
ax1.set_ylabel('피해 건수', color='skyblue')
ax1.tick_params(axis='y', labelcolor='skyblue')

# 선그래프: 중간 피해 금액 (이중축)
ax2 = ax1.twinx()
line = ax2.plot(merged_median['피해자 성별'], merged_median['중간 피해 금액'], color='salmon', marker='o', label='중간 피해 금액')
ax2.set_ylabel('중간 피해 금액 (원)', color='salmon')
ax2.ticklabel_format(style='plain', axis='y')
ax2.tick_params(axis='y', labelcolor='salmon')

# 제목 및 레이아웃
plt.title('성별에 따른 피해 건수 및 중간 피해 금액')
fig.tight_layout()
plt.show()






cross_tab = pd.crosstab(data['연령대'], data['사기유형'])


plt.figure(figsize=(10, 6))
sns.heatmap(cross_tab, annot=True, fmt="d", cmap="Blues", linewidths=0.5)

plt.title("연령대별 사기 유형 분포", fontsize=14)
plt.xlabel("사기 유형", fontsize=12)
plt.ylabel("연령대", fontsize=12)
plt.xticks(rotation=45)
plt.yticks(rotation=0)
plt.show()





# 연도별 피해 건수(연도별 사건 개수)와 총 피해액 집계

yearly_stats = data.groupby("최초 접수년").agg(
    피해_건수=("최초 접수년", "count"),
    총_피해액=("피해자계좌_피해(송금)액", "sum")
).reset_index()


# 1. 연도별 피해 건수와 총 피해액을 한 번에 그리기 위해 figure 생성
fig, ax1 = plt.subplots(figsize=(10, 6))

# 2. 연도별 피해 건수 그래프 (왼쪽 y축: orange)
ax1.bar(yearly_stats['최초 접수년'],
        yearly_stats['피해_건수'],
        color='orange',
        alpha=0.6,
        label='피해 건수')
ax1.set_xlabel('연도')
ax1.set_ylabel('피해 건수', color='orange')
ax1.tick_params(axis='y', labelcolor='orange')

# 3. 총 피해액 그래프 (오른쪽 y축: green)
ax2 = ax1.twinx()  # 두 번째 축 생성
ax2.plot(yearly_stats['최초 접수년'],
         yearly_stats['총_피해액'],
         color='green',
         marker='s',
         label='총 피해액')
ax2.set_ylabel('총 피해액', color='green')
ax2.tick_params(axis='y', labelcolor='green')

# 4. 그래프 제목
plt.title('연도별 피해 건수와 총 피해액')

# 5. 레이블 표시
fig.tight_layout()

# 6. 그래프 보여주기
plt.show()








# 연령대, 접근매체, 사칭기관, 피해자계좌_피해(송금)액 -> 사용
# 피해액과 관련된 변수(연령대, 접근매체, 사칭기관)
target = data[["연령대", "접근매체", "사칭기관", "피해자계좌_피해(송금)액"]]


# 피해액 합계(그룹) -> ex. 연령대 + 접근매체 + 사칭기관
grouped = target.groupby(["연령대", "접근매체", "사칭기관"])["피해자계좌_피해(송금)액"].sum().reset_index()


# 피해액이 높은 조합을 파악
# 정렬: 피해액을 기준으로 내림차순 정렬
# 상위 10개: 피해 규모가 가장 큰 조합 Top 10을 추출

top_combinations = grouped.sort_values(by="피해자계좌_피해(송금)액", ascending=False).head(10)
print(top_combinations)


# 조건 조합 텍스트 컬럼 생성
# 3개 항목 -> 연령대, 접근매체, 사칭기관 -> 하나의 문자열로 합쳐서 y축

top_combinations["조합"] = top_combinations.apply(
    lambda row: f"{row['연령대']}세 | {row['접근매체']} | {row['사칭기관']}", axis=1
)

# 시각화(막대그래프)
# x축 -> 피해액 (금액)
# 색상 -> "coolwarm"	파랑 ↔ 빨강 대비 색상

plt.figure(figsize=(12, 6))
sns.barplot(
    data=top_combinations,
    x="피해자계좌_피해(송금)액",
    y="조합",
    hue="조합",  # 컬러를 '조합' 기준으로 할당
    dodge=False,  # 겹치지 않게 막기
    palette=sns.color_palette("coolwarm", len(top_combinations)),
    legend=False  # 범례 안 보이게
)

# tight_layout() -> 글자 겹침 방지

plt.title("피해액이 큰 고위험 조합 TOP 10", fontsize=14)
plt.xlabel("총 피해액 (원)")
plt.ylabel("조건 조합")

# y축에 조건 조합 텍스트
# x축은 피해액 (원)

# 막대 옆에 피해액 숫자 표시 (천 단위 콤마) -> 각 막대 오른쪽에 피해 금액 표시
for i, value in enumerate(top_combinations["피해자계좌_피해(송금)액"]):
    plt.text(value, i, f"{int(value):,}원", va='center', ha='left', fontsize=10)


plt.tight_layout()
plt.show()



