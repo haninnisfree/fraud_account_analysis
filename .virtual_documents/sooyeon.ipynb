# 7. ✅ 연도별 피해 추이 분석
#목적: 시간이 지남에 따라 사기 피해가 줄고 있는지, 늘고 있는지 확인
#분석: 최초 접수년 vs 피해 건수, 총 피해액

# 8. ✅ 사기유형별 피해자 특성 분석
#목적: 각 사기 유형에 어떤 성별/연령대가 주로 노출되는지 분석
#분석: 사기유형 vs 성별, 연령대

# 9. ✅ 고위험 조합 탐색 (예: 고령+전화+금융기관 사칭)
#목적: 피해가 큰 조건 조합 파악 → 정책 제안 가능
# 분석: 다변량 분석 (ex. 연령대 + 접근매체 + 사칭기관 → 피해액)





# 7. 연도별 피해 추이 분석
# groupby()와 agg() 함수로 연도별 피해 건수 및 총 피해액을 집계.
# matplotlib이나 seaborn을 사용 -> 연도별 피해 추이


import pandas as pd
import matplotlib.pyplot as plt
import seaborn as sns


pd.read_csv("우체국금융개발원_우체국 금융 사기계좌 정보_20241231.csv", encoding='cp949')


# 데이터 확인 -> 상위 5개 행 출력
print(data.head(5))


# 데이터 확인 -> 컬럼명 확인
print(data.columns)


# 데이터 확인 -> 데이터 타입 확인
print(data.dtypes)





# 연도별 피해 건수(연도별 사건 개수)와 총 피해액 집계

yearly_stats = data.groupby("최초 접수년").agg(
    피해_건수=("최초 접수년", "count"),
    총_피해액=("피해자계좌_피해(송금)액", "sum")
).reset_index()


print(yearly_stats.head())  # 데이터 확인





import matplotlib.pyplot as plt
import matplotlib.font_manager as fm

# 윈도우 한글 폰트 경로 설정 (기본적으로 설치된 'Malgun Gothic' 폰트 사용)
font_path = 'C:/Windows/Fonts/malgun.ttf'  # 윈도우에서 기본 설치된 폰트 경로
font_prop = fm.FontProperties(fname=font_path)
plt.rcParams['font.family'] = font_prop.get_name()





import matplotlib.pyplot as plt
import seaborn as sns


# 1. 연도별 피해 건수와 총 피해액을 한 번에 그리기 위해 figure 생성
fig, ax1 = plt.subplots(figsize=(10, 6))

# 2. 연도별 피해 건수 그래프 (왼쪽 y축: orange)
ax1.bar(yearly_stats['최초 접수년'], 
        yearly_stats['피해_건수'], 
        color='orange', 
        alpha=0.6, 
        label='피해 건수')
ax1.set_xlabel('연도')
ax1.set_ylabel('피해 건수', color='orange')
ax1.tick_params(axis='y', labelcolor='orange')

# 3. 총 피해액 그래프 (오른쪽 y축: green)
ax2 = ax1.twinx()  # 두 번째 축 생성
ax2.plot(yearly_stats['최초 접수년'],
         yearly_stats['총_피해액'],
         color='green',
         marker='s',
         label='총 피해액')
ax2.set_ylabel('총 피해액', color='green')
ax2.tick_params(axis='y', labelcolor='green')

# 4. 그래프 제목
plt.title('연도별 피해 건수와 총 피해액')

# 5. 레이블 표시
fig.tight_layout()

# 6. 그래프 보여주기
plt.show()


# fig, ax1 = plt.subplots(): 하나의 큰 그래프, 첫 번째 축을 ax1로 지정합니다.
# ax1.bar(): 연도별 피해 건수를 바 차트
# ax2 = ax1.twinx(): ax1의 y축을 공유하는 두 번째 축
# ax2.plot(): 두 번째 축에서 총 피해액을 선 그래프로
# marker='s' -> 정사각형(square)
# fig.tight_layout(): 레이아웃을 자동으로 조정하여 그래프가 겹치지 않도록
# plt.show(): 그래프를 화면에 출력





# 8. 사기유형별 피해자 특성 분석
# 사기유형을 기준으로 
# groupby()와 agg()를 사용 -> 사기 유형에 따른 성별, 연령대별 피해 건수와 피해액


import pandas as pd
import matplotlib.pyplot as plt
import seaborn as sns


pd.read_csv("우체국금융개발원_우체국 금융 사기계좌 정보_20241231.csv", encoding='cp949')


# 성별에 따른 집계 (사기유형별)

gender_stats = data.groupby(['사기유형', '피해자 성별']).agg(
    피해_건수=("사기유형", "count"),
    총_피해액=("피해자계좌_피해(송금)액", "sum")
).reset_index()


# 연령대에 따른 집계 (사기유형별)

age_stats = data.groupby(['사기유형', '연령대']).agg(
    피해_건수=("사기유형", "count"),
    총_피해액=("피해자계좌_피해(송금)액", "sum")
).reset_index()


# 3. 성별(-> Paired -> 파스텔톤)에 따른 피해 건수 시각화 (사기유형별)

plt.figure(figsize=(12, 6))
sns.barplot(x="사기유형",
            y="피해_건수",
            hue="피해자 성별",
            data=gender_stats,
            palette="Paired")

plt.title("사기유형별 성별 피해 건수")
plt.xlabel("사기유형")
plt.ylabel("피해 건수")
plt.xticks(rotation=45)
plt.tight_layout()
plt.show()


# 4. 연령대(-> rainbow -> 무지개 색상)에 따른 피해 건수 시각화 (사기유형별)

plt.figure(figsize=(12, 6))
sns.barplot(x="사기유형", 
            y="피해_건수", 
            hue="연령대", 
            data=age_stats, 
            palette="rainbow")

plt.title("사기유형별 연령대 피해 건수")
plt.xlabel("사기유형")
plt.ylabel("피해 건수")
plt.xticks(rotation=45)
plt.tight_layout()
plt.show()


# gender_stats: 사기유형별로 성별에 따른 피해 건수 및 총 피해액
# age_stats: 사기유형별로 연령대에 따른 

# 성별,연령대 -> 피해 건수 시각화: sns.barplot()
# plt.tight_layout() -> 레이아웃이 겹치지 않도록
# plt.xticks(rotation=45) -> x축 레이블 -> 회전

# sns.barplot(x='x축 변수', y='y축 변수', data='데이터프레임', hue='그룹화 변수', palette='색상 팔레트')





# 9. ✅ 고위험 조합 탐색 (예: 고령+전화+금융기관 사칭)
#목적: 피해가 큰 조건 조합 파악 → 정책 제안 가능
# 분석: 다변량 분석 (ex. 연령대 + 접근매체 + 사칭기관 → 피해액)


import pandas as pd
import seaborn as sns
import matplotlib.pyplot as plt


data = pd.read_csv("우체국금융개발원_우체국 금융 사기계좌 정보_20241231.csv", encoding='cp949')



