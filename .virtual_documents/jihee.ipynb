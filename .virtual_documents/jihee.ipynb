import pandas as pd
import matplotlib.pyplot as plt
from matplotlib import rcParams
import seaborn as sns


data = pd.read_csv('data/우체국금융개발원_우체국 금융 사기계좌 정보_20241231.csv', encoding='cp949')


data


data.info()


gender_avg = data.groupby('성별')['피해송금액'].mean().reset_index()


data.columns


data.columns = ['연령대','성별','최초접수년도',
                '최초접수월','피해송금액','사기유형','사칭기관',
                '피해구제신청사유','접근매체']


data


# 1. 성별에 따른 평균 피해 금액 비교


rcParams['font.family'] = 'AppleGothic'


plt.figure(figsize=(6, 4))
plt.bar(gender_avg['성별'], gender_avg['피해송금액'], color=['green','blue','pink'])
plt.xlabel('성별')
plt.ylabel('평균 피해 금액 (원)')
plt.title('성별에 따른 평균 피해 금액')
plt.show()





cross_tab = pd.crosstab(data['연령대'], data['사기유형'])


cross_tab



