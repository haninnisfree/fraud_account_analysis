import pandas as pd
import matplotlib.pyplot as plt
from matplotlib import rcParams
import seaborn as sns


import matplotlib.pyplot as plt
import matplotlib.font_manager as fm

# 한글 폰트 경로 설정 (Mac 기본 폰트: AppleGothic)
plt.rcParams['font.family'] = 'AppleGothic'

# 마이너스 기호 깨짐 방지
plt.rcParams['axes.unicode_minus'] = False

# 테스트 플롯
plt.plot([1, 2, 3], [4, 3, 7])
plt.title("한글 테스트")
plt.show()


import chardet

with open('data/우체국금융개발원_우체국 금융 사기계좌 정보_20241231.csv', 'rb') as f:
    result = chardet.detect(f.read(10000))
    print(result)


data = pd.read_csv('우체국금융개발원_우체국 금융 사기계좌 정보_20241231.csv', encoding='cp949')


data


data.info()


data.columns


gender_avg = data.groupby('피해자 성별')['피해자계좌_피해(송금)액'].mean().reset_index()


data


# 1. 성별에 따른 평균 피해 금액 비교


import matplotlib.ticker as mtick


plt.figure(figsize=(6, 4))
bars = plt.bar(gender_avg['피해자 성별'], gender_avg['피해자계좌_피해(송금)액'], color=['green','blue','pink'])
plt.xlabel('성별')
plt.ylabel('평균 피해 금액 (원)')
plt.title('성별에 따른 평균 피해 금액')

plt.gca().yaxis.set_major_formatter(mtick.FuncFormatter(lambda x, _: f'{int(x/1e7)}천만'))
for bar in bars:
    height = bar.get_height()  # 막대 높이(값)
    plt.text(bar.get_x() + bar.get_width()/2, height, f'{height:,.0f} 원', 
             ha='center', va='bottom', fontsize=10, fontweight='bold')

plt.show()


# 2. 연령대별 사기 유형 분포 분석


cross_tab = pd.crosstab(data['연령대'], data['사기유형'])


cross_tab


plt.figure(figsize=(10, 6))
sns.heatmap(cross_tab, annot=True, fmt="d", cmap="Blues", linewidths=0.5)

plt.title("연령대별 사기 유형 분포", fontsize=14)
plt.xlabel("사기 유형", fontsize=12)
plt.ylabel("연령대", fontsize=12)
plt.xticks(rotation=45)
plt.yticks(rotation=0)
plt.show()


# 3. 사칭기관에 따른 피해 규모 비교 (피해건수 및 금액)


group = data.groupby('사칭기관').agg({
    '피해자계좌_피해(송금)액': 'mean',
    '사칭기관': 'count'  # 피해 건수
}).rename(columns={'피해자계좌_피해(송금)액': '평균 피해 금액', '사칭기관': '피해 건수'}).sort_values('평균 피해 금액', ascending=False)


labels = group.index
x = range(len(labels))

fig, ax1 = plt.subplots(figsize=(14, 6))

bars = ax1.bar(x, group['평균 피해 금액'], color='skyblue')
ax1.set_ylabel('평균 피해 금액 (원)', fontsize=12)
ax1.yaxis.set_major_formatter(mtick.StrMethodFormatter('{x:,.0f} 원'))
ax1.set_ylim(0, group['평균 피해 금액'].max() * 1.2)

ax2 = ax1.twinx()
ax2.plot(x, group['피해 건수'], color='tomato', marker='o', linewidth=2, label='피해 건수')
ax2.set_ylabel('피해 건수 (건)', fontsize=12)
ax2.set_ylim(0, group['피해 건수'].max() * 1.2)

ax1.set_xticks(x)
ax1.set_xticklabels(labels, rotation=45, ha='right', fontsize=9)

for bar in bars:
    height = bar.get_height()
    ax1.text(bar.get_x() + bar.get_width()/2, height, f'{height:,.0f} 원',
             ha='center', va='bottom', fontsize=9)

ax1.legend(['평균 피해 금액'], loc='upper left', bbox_to_anchor=(0, 1.1))
ax2.legend(['피해 건수'], loc='upper right', bbox_to_anchor=(1, 1.1))

plt.title('사칭기관별 평균 피해 금액 및 피해 건수 비교', fontsize=15)

fig.tight_layout()
fig.subplots_adjust(bottom=0.25)

plt.show()



